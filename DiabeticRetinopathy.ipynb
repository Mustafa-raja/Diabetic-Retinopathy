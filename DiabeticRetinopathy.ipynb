{
 "cells": [
  {
   "cell_type": "markdown",
   "source": [
    "# Statistics of data"
   ],
   "metadata": {
    "collapsed": false
   },
   "id": "a9da8ae26acb897f"
  },
  {
   "cell_type": "code",
   "outputs": [
    {
     "data": {
      "text/plain": "level\n0    25810\n1     2443\n2     5292\n3      873\n4      708\ndtype: int64"
     },
     "execution_count": 27,
     "metadata": {},
     "output_type": "execute_result"
    }
   ],
   "source": [
    "import  pandas as pd\n",
    "df15 = pd.read_csv(\"trainLabels15.csv\")\n",
    "df_pivot = df15.pivot(columns='level', values='image')\n",
    "df_pivot.count()"
   ],
   "metadata": {
    "collapsed": false,
    "ExecuteTime": {
     "end_time": "2024-04-16T14:44:33.518423Z",
     "start_time": "2024-04-16T14:44:33.429606Z"
    }
   },
   "id": "b236d3c0a3113451",
   "execution_count": 27
  },
  {
   "cell_type": "code",
   "outputs": [
    {
     "data": {
      "text/plain": "diagnosis\n0    1805\n1     370\n2     999\n3     193\n4     295\ndtype: int64"
     },
     "execution_count": 28,
     "metadata": {},
     "output_type": "execute_result"
    }
   ],
   "source": [
    "df19 = pd.read_csv(\"trainLabels19.csv\")\n",
    "df_pivot = df19.pivot(columns='diagnosis', values='id_code')\n",
    "df_pivot.count()"
   ],
   "metadata": {
    "collapsed": false,
    "ExecuteTime": {
     "end_time": "2024-04-16T14:44:35.381512Z",
     "start_time": "2024-04-16T14:44:35.340503Z"
    }
   },
   "id": "3abe081af5b5c728",
   "execution_count": 28
  },
  {
   "cell_type": "markdown",
   "source": [
    "The data exhibits a class imbalance, where class 0 has a significantly higher number of images compared to classes 1, 2, 3, and 4. This can negatively impact machine learning models by causing them to favor the majority class (class 0) during training.\n",
    "\n",
    "### Addressing Class Imbalance\n",
    "The proposed strategy to counter this imbalance is to rotate the images in classes 1, 2, 3, and 4. This would create new images that could be added to respective classes. Specifically, the strategy suggests rotating the images by 90 degrees, 180 degrees, and 270 degrees. This would triple the number of images in each of the classes being rotated.\n"
   ],
   "metadata": {
    "collapsed": false
   },
   "id": "6cb86e5c3b39c620"
  },
  {
   "cell_type": "markdown",
   "source": [
    "## Merging 2019 and 2015 datasets"
   ],
   "metadata": {
    "collapsed": false
   },
   "id": "b8a027cf5e9cb867"
  },
  {
   "cell_type": "code",
   "outputs": [
    {
     "data": {
      "text/plain": "             image  level\n0     000c1434d8d7      2\n1     001639a390f0      4\n2     0024cdab0c1e      1\n3     002c21358ce6      0\n4     005b95c28852      0\n...            ...    ...\n3657  ffa47f6a7bf4      2\n3658  ffc04fed30e6      0\n3659  ffcf7b45f213      2\n3660  ffd97f8cd5aa      0\n3661  ffec9a18a3ce      2\n\n[3662 rows x 2 columns]",
      "text/html": "<div>\n<style scoped>\n    .dataframe tbody tr th:only-of-type {\n        vertical-align: middle;\n    }\n\n    .dataframe tbody tr th {\n        vertical-align: top;\n    }\n\n    .dataframe thead th {\n        text-align: right;\n    }\n</style>\n<table border=\"1\" class=\"dataframe\">\n  <thead>\n    <tr style=\"text-align: right;\">\n      <th></th>\n      <th>image</th>\n      <th>level</th>\n    </tr>\n  </thead>\n  <tbody>\n    <tr>\n      <th>0</th>\n      <td>000c1434d8d7</td>\n      <td>2</td>\n    </tr>\n    <tr>\n      <th>1</th>\n      <td>001639a390f0</td>\n      <td>4</td>\n    </tr>\n    <tr>\n      <th>2</th>\n      <td>0024cdab0c1e</td>\n      <td>1</td>\n    </tr>\n    <tr>\n      <th>3</th>\n      <td>002c21358ce6</td>\n      <td>0</td>\n    </tr>\n    <tr>\n      <th>4</th>\n      <td>005b95c28852</td>\n      <td>0</td>\n    </tr>\n    <tr>\n      <th>...</th>\n      <td>...</td>\n      <td>...</td>\n    </tr>\n    <tr>\n      <th>3657</th>\n      <td>ffa47f6a7bf4</td>\n      <td>2</td>\n    </tr>\n    <tr>\n      <th>3658</th>\n      <td>ffc04fed30e6</td>\n      <td>0</td>\n    </tr>\n    <tr>\n      <th>3659</th>\n      <td>ffcf7b45f213</td>\n      <td>2</td>\n    </tr>\n    <tr>\n      <th>3660</th>\n      <td>ffd97f8cd5aa</td>\n      <td>0</td>\n    </tr>\n    <tr>\n      <th>3661</th>\n      <td>ffec9a18a3ce</td>\n      <td>2</td>\n    </tr>\n  </tbody>\n</table>\n<p>3662 rows × 2 columns</p>\n</div>"
     },
     "execution_count": 29,
     "metadata": {},
     "output_type": "execute_result"
    }
   ],
   "source": [
    "df19.rename(columns = {'id_code':'image', 'diagnosis':'level'}, inplace = True)\n",
    "df19"
   ],
   "metadata": {
    "collapsed": false,
    "ExecuteTime": {
     "end_time": "2024-04-16T14:44:40.794502Z",
     "start_time": "2024-04-16T14:44:40.781707Z"
    }
   },
   "id": "fbf5a647ff69e3ec",
   "execution_count": 29
  },
  {
   "cell_type": "code",
   "outputs": [
    {
     "data": {
      "text/plain": "level\n0    27615\n1     2813\n2     6291\n3     1066\n4     1003\ndtype: int64"
     },
     "execution_count": 34,
     "metadata": {},
     "output_type": "execute_result"
    }
   ],
   "source": [
    "df = pd.merge(df15, df19, how='outer')\n",
    "df_pivot = df.pivot(columns='level', values='image')\n",
    "df_pivot.count()"
   ],
   "metadata": {
    "collapsed": false,
    "ExecuteTime": {
     "end_time": "2024-04-16T14:49:22.592447Z",
     "start_time": "2024-04-16T14:49:22.497316Z"
    }
   },
   "id": "79698d4ee28ac06c",
   "execution_count": 34
  },
  {
   "cell_type": "markdown",
   "source": [
    "# Datasets\n",
    "The two datasets are now merged in one dataframe\n",
    "further actions\n",
    "- **Generate CSV**: Create a CSV file containing the merged dataframe for easy access and reference.\n",
    "- **Augmentation of Images**: Organize the images into their respective directories based on their class labels for efficient management and access.\n",
    "- **Address Class Imbalance**: Rotate images belonging to classes 1, 2, 3, and 4 to counter the imbalance within these classes, ensuring a more balanced representation across all classes."
   ],
   "metadata": {
    "collapsed": false
   },
   "id": "9a6c9545cb0fb0e5"
  },
  {
   "cell_type": "code",
   "outputs": [],
   "source": [
    "df.to_csv(\"train19&15.csv\", index = False)"
   ],
   "metadata": {
    "collapsed": false,
    "ExecuteTime": {
     "end_time": "2024-04-16T18:59:13.934682Z",
     "start_time": "2024-04-16T18:59:13.839433Z"
    }
   },
   "id": "5ecc26a432af21e1",
   "execution_count": 40
  },
  {
   "cell_type": "markdown",
   "source": [
    "##### Dividing images to respective directories according to their classes"
   ],
   "metadata": {
    "collapsed": false
   },
   "id": "b1f8e53633bd29e5"
  },
  {
   "cell_type": "code",
   "outputs": [],
   "source": [
    "import os\n",
    "\n",
    "for label in df['level'].unique():\n",
    "    class_dir = os.path.join('class ' + str(label))\n",
    "    if not os.path.exists(class_dir):\n",
    "        os.makedirs(class_dir)"
   ],
   "metadata": {
    "collapsed": false,
    "ExecuteTime": {
     "end_time": "2024-04-16T20:26:05.802459Z",
     "start_time": "2024-04-16T20:26:05.782430Z"
    }
   },
   "id": "450d56b1ee55192f",
   "execution_count": 42
  },
  {
   "cell_type": "code",
   "outputs": [],
   "source": [],
   "metadata": {
    "collapsed": false
   },
   "id": "a4719ba1c27929ee"
  }
 ],
 "metadata": {
  "kernelspec": {
   "display_name": "Python 3",
   "language": "python",
   "name": "python3"
  },
  "language_info": {
   "codemirror_mode": {
    "name": "ipython",
    "version": 2
   },
   "file_extension": ".py",
   "mimetype": "text/x-python",
   "name": "python",
   "nbconvert_exporter": "python",
   "pygments_lexer": "ipython2",
   "version": "2.7.6"
  }
 },
 "nbformat": 4,
 "nbformat_minor": 5
}
